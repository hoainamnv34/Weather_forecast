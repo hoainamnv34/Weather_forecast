{
 "cells": [
  {
   "attachments": {},
   "cell_type": "markdown",
   "metadata": {},
   "source": [
    "# Import Libraries"
   ]
  },
  {
   "cell_type": "code",
   "execution_count": 32,
   "metadata": {},
   "outputs": [],
   "source": [
    "import numpy as np\n",
    "import pandas as pd\n",
    "import tensorflow as tf\n",
    "from tensorflow import keras\n",
    "import matplotlib.pyplot as plt\n",
    "from sklearn.tree import DecisionTreeRegressor"
   ]
  },
  {
   "attachments": {},
   "cell_type": "markdown",
   "metadata": {},
   "source": [
    "# Data Preparing"
   ]
  },
  {
   "attachments": {},
   "cell_type": "markdown",
   "metadata": {},
   "source": [
    "## Train and Test data "
   ]
  },
  {
   "cell_type": "code",
   "execution_count": 33,
   "metadata": {},
   "outputs": [
    {
     "data": {
      "text/plain": [
       "40"
      ]
     },
     "execution_count": 33,
     "metadata": {},
     "output_type": "execute_result"
    }
   ],
   "source": [
    "train_df = pd.read_csv('./processed_data/trainset.csv')\n",
    "test_df = pd.read_csv('./processed_data/testset.csv')\n",
    "n_feature = train_df.shape[1]\n",
    "n_feature"
   ]
  },
  {
   "attachments": {},
   "cell_type": "markdown",
   "metadata": {},
   "source": [
    "## Data Setup"
   ]
  },
  {
   "cell_type": "code",
   "execution_count": 34,
   "metadata": {},
   "outputs": [
    {
     "name": "stdout",
     "output_type": "stream",
     "text": [
      "Index(['Formatted Date', 'Precip Type', 'Temperature (C)',\n",
      "       'Apparent Temperature (C)', 'Humidity', 'Visibility (km)',\n",
      "       'Pressure (millibars)', 'Summary_Breezy', 'Summary_Breezy and Dry',\n",
      "       'Summary_Breezy and Foggy', 'Summary_Breezy and Mostly Cloudy',\n",
      "       'Summary_Breezy and Overcast', 'Summary_Breezy and Partly Cloudy',\n",
      "       'Summary_Clear', 'Summary_Dangerously Windy and Partly Cloudy',\n",
      "       'Summary_Drizzle', 'Summary_Dry', 'Summary_Dry and Mostly Cloudy',\n",
      "       'Summary_Dry and Partly Cloudy', 'Summary_Foggy',\n",
      "       'Summary_Humid and Mostly Cloudy', 'Summary_Humid and Overcast',\n",
      "       'Summary_Humid and Partly Cloudy', 'Summary_Light Rain',\n",
      "       'Summary_Mostly Cloudy', 'Summary_Overcast', 'Summary_Partly Cloudy',\n",
      "       'Summary_Rain', 'Summary_Windy', 'Summary_Windy and Dry',\n",
      "       'Summary_Windy and Foggy', 'Summary_Windy and Mostly Cloudy',\n",
      "       'Summary_Windy and Overcast', 'Summary_Windy and Partly Cloudy', 'Wx',\n",
      "       'Wy', 'Day sin', 'Day cos', 'Year sin', 'Year cos'],\n",
      "      dtype='object')\n",
      "Index(['Precip Type', 'Temperature (C)', 'Apparent Temperature (C)',\n",
      "       'Humidity', 'Visibility (km)', 'Pressure (millibars)', 'Summary_Breezy',\n",
      "       'Summary_Breezy and Dry', 'Summary_Breezy and Foggy',\n",
      "       'Summary_Breezy and Mostly Cloudy', 'Summary_Breezy and Overcast',\n",
      "       'Summary_Breezy and Partly Cloudy', 'Summary_Clear',\n",
      "       'Summary_Dangerously Windy and Partly Cloudy', 'Summary_Drizzle',\n",
      "       'Summary_Dry', 'Summary_Dry and Mostly Cloudy',\n",
      "       'Summary_Dry and Partly Cloudy', 'Summary_Foggy',\n",
      "       'Summary_Humid and Mostly Cloudy', 'Summary_Humid and Overcast',\n",
      "       'Summary_Humid and Partly Cloudy', 'Summary_Light Rain',\n",
      "       'Summary_Mostly Cloudy', 'Summary_Overcast', 'Summary_Partly Cloudy',\n",
      "       'Summary_Rain', 'Summary_Windy', 'Summary_Windy and Dry',\n",
      "       'Summary_Windy and Foggy', 'Summary_Windy and Mostly Cloudy',\n",
      "       'Summary_Windy and Overcast', 'Summary_Windy and Partly Cloudy', 'Wx',\n",
      "       'Wy', 'Day sin', 'Day cos', 'Year sin', 'Year cos'],\n",
      "      dtype='object')\n"
     ]
    }
   ],
   "source": [
    "# train_X = train_df\n",
    "# train_y = train_df['Temperature (C)']\n",
    "# val_X = test_df\n",
    "# val_y = test_df['Temperature (C)']\n",
    "# train_X.drop(train_X.index[-1], inplace=True)\n",
    "# train_y = train_y.drop(train_y.index[0])\n",
    "# val_X.drop(val_X.index[-1], inplace=True)\n",
    "# val_y = val_y.drop(val_y.index[0])\n",
    "\n",
    "train_X = train_df\n",
    "val_X = test_df\n",
    "print(val_X.columns)\n",
    "date_time = pd.to_datetime(test_df.pop('Formatted Date'), format='%Y-%m-%d %H:%M:%S.%f %z')\n",
    "print(val_X.columns)\n",
    "\n",
    "train_X.drop(['Formatted Date'],axis=1,inplace=True)\n",
    "feature_name = []\n",
    "\n",
    "# prepare train_y and val_y for each feature\n",
    "train_y = []\n",
    "for column_name in train_df:\n",
    "   column_data = train_df[column_name]\n",
    "   feature_name.append(column_name)\n",
    "   train_y.append(column_data.values)\n",
    "val_y = []\n",
    "for column_name in test_df:\n",
    "   column_data = test_df[column_name]\n",
    "   val_y.append(column_data.values)\n"
   ]
  },
  {
   "cell_type": "code",
   "execution_count": 4,
   "metadata": {},
   "outputs": [
    {
     "name": "stdout",
     "output_type": "stream",
     "text": [
      "39\n",
      "39\n"
     ]
    }
   ],
   "source": []
  },
  {
   "cell_type": "code",
   "execution_count": 35,
   "metadata": {},
   "outputs": [],
   "source": [
    "train_X.drop(train_X.index[-1], inplace=True)\n",
    "val_X.drop(val_X.index[-1], inplace=True)\n",
    "ft_len = len(feature_name)\n",
    "for i in range(0, ft_len):\n",
    "   train_y[i] = train_y[i][1:]\n",
    "   val_y[i] = val_y[i][1:]"
   ]
  },
  {
   "attachments": {},
   "cell_type": "markdown",
   "metadata": {},
   "source": [
    "# Build Models"
   ]
  },
  {
   "cell_type": "code",
   "execution_count": 36,
   "metadata": {},
   "outputs": [],
   "source": [
    "models = []"
   ]
  },
  {
   "attachments": {},
   "cell_type": "markdown",
   "metadata": {},
   "source": [
    "# Train"
   ]
  },
  {
   "cell_type": "code",
   "execution_count": 37,
   "metadata": {},
   "outputs": [],
   "source": [
    "for i in range(0, ft_len):\n",
    "   models.append(DecisionTreeRegressor())\n"
   ]
  },
  {
   "cell_type": "code",
   "execution_count": 38,
   "metadata": {},
   "outputs": [
    {
     "data": {
      "text/html": [
       "<style>#sk-container-id-3 {color: black;background-color: white;}#sk-container-id-3 pre{padding: 0;}#sk-container-id-3 div.sk-toggleable {background-color: white;}#sk-container-id-3 label.sk-toggleable__label {cursor: pointer;display: block;width: 100%;margin-bottom: 0;padding: 0.3em;box-sizing: border-box;text-align: center;}#sk-container-id-3 label.sk-toggleable__label-arrow:before {content: \"▸\";float: left;margin-right: 0.25em;color: #696969;}#sk-container-id-3 label.sk-toggleable__label-arrow:hover:before {color: black;}#sk-container-id-3 div.sk-estimator:hover label.sk-toggleable__label-arrow:before {color: black;}#sk-container-id-3 div.sk-toggleable__content {max-height: 0;max-width: 0;overflow: hidden;text-align: left;background-color: #f0f8ff;}#sk-container-id-3 div.sk-toggleable__content pre {margin: 0.2em;color: black;border-radius: 0.25em;background-color: #f0f8ff;}#sk-container-id-3 input.sk-toggleable__control:checked~div.sk-toggleable__content {max-height: 200px;max-width: 100%;overflow: auto;}#sk-container-id-3 input.sk-toggleable__control:checked~label.sk-toggleable__label-arrow:before {content: \"▾\";}#sk-container-id-3 div.sk-estimator input.sk-toggleable__control:checked~label.sk-toggleable__label {background-color: #d4ebff;}#sk-container-id-3 div.sk-label input.sk-toggleable__control:checked~label.sk-toggleable__label {background-color: #d4ebff;}#sk-container-id-3 input.sk-hidden--visually {border: 0;clip: rect(1px 1px 1px 1px);clip: rect(1px, 1px, 1px, 1px);height: 1px;margin: -1px;overflow: hidden;padding: 0;position: absolute;width: 1px;}#sk-container-id-3 div.sk-estimator {font-family: monospace;background-color: #f0f8ff;border: 1px dotted black;border-radius: 0.25em;box-sizing: border-box;margin-bottom: 0.5em;}#sk-container-id-3 div.sk-estimator:hover {background-color: #d4ebff;}#sk-container-id-3 div.sk-parallel-item::after {content: \"\";width: 100%;border-bottom: 1px solid gray;flex-grow: 1;}#sk-container-id-3 div.sk-label:hover label.sk-toggleable__label {background-color: #d4ebff;}#sk-container-id-3 div.sk-serial::before {content: \"\";position: absolute;border-left: 1px solid gray;box-sizing: border-box;top: 0;bottom: 0;left: 50%;z-index: 0;}#sk-container-id-3 div.sk-serial {display: flex;flex-direction: column;align-items: center;background-color: white;padding-right: 0.2em;padding-left: 0.2em;position: relative;}#sk-container-id-3 div.sk-item {position: relative;z-index: 1;}#sk-container-id-3 div.sk-parallel {display: flex;align-items: stretch;justify-content: center;background-color: white;position: relative;}#sk-container-id-3 div.sk-item::before, #sk-container-id-3 div.sk-parallel-item::before {content: \"\";position: absolute;border-left: 1px solid gray;box-sizing: border-box;top: 0;bottom: 0;left: 50%;z-index: -1;}#sk-container-id-3 div.sk-parallel-item {display: flex;flex-direction: column;z-index: 1;position: relative;background-color: white;}#sk-container-id-3 div.sk-parallel-item:first-child::after {align-self: flex-end;width: 50%;}#sk-container-id-3 div.sk-parallel-item:last-child::after {align-self: flex-start;width: 50%;}#sk-container-id-3 div.sk-parallel-item:only-child::after {width: 0;}#sk-container-id-3 div.sk-dashed-wrapped {border: 1px dashed gray;margin: 0 0.4em 0.5em 0.4em;box-sizing: border-box;padding-bottom: 0.4em;background-color: white;}#sk-container-id-3 div.sk-label label {font-family: monospace;font-weight: bold;display: inline-block;line-height: 1.2em;}#sk-container-id-3 div.sk-label-container {text-align: center;}#sk-container-id-3 div.sk-container {/* jupyter's `normalize.less` sets `[hidden] { display: none; }` but bootstrap.min.css set `[hidden] { display: none !important; }` so we also need the `!important` here to be able to override the default hidden behavior on the sphinx rendered scikit-learn.org. See: https://github.com/scikit-learn/scikit-learn/issues/21755 */display: inline-block !important;position: relative;}#sk-container-id-3 div.sk-text-repr-fallback {display: none;}</style><div id=\"sk-container-id-3\" class=\"sk-top-container\"><div class=\"sk-text-repr-fallback\"><pre>DecisionTreeRegressor()</pre><b>In a Jupyter environment, please rerun this cell to show the HTML representation or trust the notebook. <br />On GitHub, the HTML representation is unable to render, please try loading this page with nbviewer.org.</b></div><div class=\"sk-container\" hidden><div class=\"sk-item\"><div class=\"sk-estimator sk-toggleable\"><input class=\"sk-toggleable__control sk-hidden--visually\" id=\"sk-estimator-id-3\" type=\"checkbox\" checked><label for=\"sk-estimator-id-3\" class=\"sk-toggleable__label sk-toggleable__label-arrow\">DecisionTreeRegressor</label><div class=\"sk-toggleable__content\"><pre>DecisionTreeRegressor()</pre></div></div></div></div></div>"
      ],
      "text/plain": [
       "DecisionTreeRegressor()"
      ]
     },
     "execution_count": 38,
     "metadata": {},
     "output_type": "execute_result"
    }
   ],
   "source": [
    "for i in range(0, ft_len):\n",
    "   model = models[i]\n",
    "   model.fit(train_X, train_y[i])\n"
   ]
  },
  {
   "attachments": {},
   "cell_type": "markdown",
   "metadata": {},
   "source": [
    "# Evaluate"
   ]
  },
  {
   "cell_type": "code",
   "execution_count": 39,
   "metadata": {},
   "outputs": [],
   "source": [
    "from sklearn.metrics import mean_absolute_error"
   ]
  },
  {
   "attachments": {},
   "cell_type": "markdown",
   "metadata": {},
   "source": [
    "## Some important features"
   ]
  },
  {
   "cell_type": "code",
   "execution_count": 40,
   "metadata": {},
   "outputs": [],
   "source": [
    "features = ['Temperature (C)', 'Apparent Temperature (C)', 'Humidity', 'Visibility (km)', 'Pressure (millibars)']"
   ]
  },
  {
   "attachments": {},
   "cell_type": "markdown",
   "metadata": {},
   "source": [
    "## Evaluate them"
   ]
  },
  {
   "cell_type": "code",
   "execution_count": 41,
   "metadata": {},
   "outputs": [],
   "source": [
    "for i in range(0, ft_len):\n",
    "   ft_name = feature_name[i]\n",
    "   if ft_name in features:\n",
    "      predict = models[i].predict(val_X)\n",
    "      mean = float(mean_absolute_error(val_y[i], predict))\n",
    "      print(f'Độ lệch trung bình của {ft_name} là: {mean:.3f}')\n",
    "      print('Biểu đồ:')\n",
    "      plt.figure(figsize=(50,10))\n",
    "      plt.plot(date_time[1:], predict, label='prediction')     \n",
    "      plt.plot(date_time[1:], val_y[i], c='red', label='real_value') \n",
    "      plt.xlabel('Date')\n",
    "      plt.ylabel(ft_name)\n",
    "      plt.title('Real vs. Predicted Values')\n",
    "      plt.legend()\n",
    "      plt.show()\n"
   ]
  },
  {
   "cell_type": "code",
   "execution_count": null,
   "metadata": {},
   "outputs": [
    {
     "name": "stdout",
     "output_type": "stream",
     "text": [
      "Độ lệch trung bình là: 0.955\n"
     ]
    }
   ],
   "source": [
    "# # mean absolute error\n",
    "# predict_temp = model.predict(val_X)\n",
    "# mean = float(mean_absolute_error(val_y, predict_temp))\n",
    "# print('Độ lệch trung bình là: {:.3f}'.format(mean))"
   ]
  }
 ],
 "metadata": {
  "kernelspec": {
   "display_name": "Python 3",
   "language": "python",
   "name": "python3"
  },
  "language_info": {
   "codemirror_mode": {
    "name": "ipython",
    "version": 3
   },
   "file_extension": ".py",
   "mimetype": "text/x-python",
   "name": "python",
   "nbconvert_exporter": "python",
   "pygments_lexer": "ipython3",
   "version": "3.10.4"
  },
  "orig_nbformat": 4
 },
 "nbformat": 4,
 "nbformat_minor": 2
}
